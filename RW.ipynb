{
 "cells": [
  {
   "cell_type": "code",
   "execution_count": 3,
   "metadata": {
    "collapsed": true
   },
   "outputs": [],
   "source": [
    "#!/usr/bin/env python\n",
    "# -*- coding: utf-8 -*-\n",
    "\n",
    "import numpy as np\n",
    "\n",
    "from cvxopt import matrix, solvers\n",
    "\n",
    "from tools import Data, Predictions\n",
    "\n",
    "\n",
    "\"\"\" A PDF reweighting tool \"\"\"\n",
    "\n",
    "__author__ = 'Stefano Carrazza & Zahari Kassabov'\n",
    "__license__ = 'GPL'\n",
    "__version__ = '1.0.0'\n",
    "__email__ = 'stefano.carrazza@cern.ch'\n",
    "\n",
    "\n"
   ]
  },
  {
   "cell_type": "code",
   "execution_count": 53,
   "metadata": {
    "collapsed": true
   },
   "outputs": [],
   "source": [
    "def effective_number_of_replicas(w):\n",
    "    N = len(w)\n",
    "    w = w*N\n",
    "    return np.exp(np.nansum(w*np.log(N/w))/N)"
   ]
  },
  {
   "cell_type": "code",
   "execution_count": 5,
   "metadata": {
    "collapsed": false
   },
   "outputs": [
    {
     "data": {
      "text/plain": [
       "1.0"
      ]
     },
     "execution_count": 5,
     "metadata": {},
     "output_type": "execute_result"
    }
   ],
   "source": [
    "effective_number_of_replicas(np.ones(100))"
   ]
  },
  {
   "cell_type": "code",
   "execution_count": 77,
   "metadata": {
    "collapsed": true
   },
   "outputs": [],
   "source": [
    "def chi2_per_replica(sigma, cv, predictions):\n",
    "    diff = predictions - cv\n",
    "    return np.einsum('id,de,ie -> i',diff, sigma, diff )/len(sigma)"
   ]
  },
  {
   "cell_type": "code",
   "execution_count": 122,
   "metadata": {
    "collapsed": true
   },
   "outputs": [],
   "source": [
    "def nnpdf_weights(sigma, cv, predictions):\n",
    "    chi2s = chi2_per_replica(sigma, cv, predictions)*len(sigma)\n",
    "    logw = ((len(sigma) - 1)/2)*np.log(chi2s) - 0.5*chi2s\n",
    "    logw -= np.mean(logw)\n",
    "    w = np.exp(logw)\n",
    "    w /= sum(w)\n",
    "    return w"
   ]
  },
  {
   "cell_type": "code",
   "execution_count": 123,
   "metadata": {
    "collapsed": false
   },
   "outputs": [
    {
     "data": {
      "text/plain": [
       "array([  3.03367609e-07,   1.90305380e-11,   2.31125771e-22,\n",
       "         2.44626424e-14,   7.22385005e-28,   7.10635407e-08,\n",
       "         1.32540552e-13,   1.39811793e-11,   6.88222395e-11,\n",
       "         3.01203312e-39,   7.86810627e-35,   2.27151855e-17,\n",
       "         5.52207313e-23,   5.44392390e-26,   1.67225417e-20,\n",
       "         1.56035279e-08,   8.63529062e-50,   2.13273147e-12,\n",
       "         2.42305439e-04,   2.14200143e-27,   5.00953096e-17,\n",
       "         3.22933280e-08,   4.01709191e-23,   4.76801862e-22,\n",
       "         3.16981646e-09,   2.92985378e-31,   6.99250852e-21,\n",
       "         2.33100211e-16,   8.09265731e-07,   9.21372878e-01,\n",
       "         1.77462374e-24,   9.11749979e-37,   4.90772418e-23,\n",
       "         1.21825020e-21,   5.29937392e-14,   4.86460894e-04,\n",
       "         3.20028192e-23,   8.44118019e-28,   3.65028051e-26,\n",
       "         5.62146769e-02,   2.08496004e-05,   5.17088018e-11,\n",
       "         7.90573390e-17,   2.13831457e-13,   4.34777126e-15,\n",
       "         3.64017611e-25,   1.75680229e-13,   5.18572438e-10,\n",
       "         4.72547457e-28,   2.28895752e-10,   6.18233782e-07,\n",
       "         4.29283457e-16,   8.78609122e-35,   3.46053527e-49,\n",
       "         5.27751515e-17,   9.01430118e-17,   2.72559887e-08,\n",
       "         1.54064354e-11,   2.42666397e-39,   9.31479174e-05,\n",
       "         1.46238608e-37,   1.29096653e-24,   3.04754978e-47,\n",
       "         9.69341766e-28,   4.67062012e-51,   2.03380271e-19,\n",
       "         6.51070930e-38,   1.97623761e-14,   7.10902652e-52,\n",
       "         3.75498187e-18,   1.97678782e-06,   1.48703731e-24,\n",
       "         3.80181695e-31,   2.26495524e-26,   4.71774015e-15,\n",
       "         1.65682006e-19,   1.86869056e-10,   2.08952144e-29,\n",
       "         3.84745509e-18,   8.20295379e-10,   3.69485079e-12,\n",
       "         1.54174526e-13,   3.87078276e-23,   2.15310484e-02,\n",
       "         1.98584880e-27,   1.16492532e-16,   5.50726479e-16,\n",
       "         2.51785624e-06,   8.68499376e-14,   1.57561042e-06,\n",
       "         7.32912034e-08,   6.04878090e-10,   3.00080267e-06,\n",
       "         1.01850748e-48,   7.67672063e-36,   3.14770857e-24,\n",
       "         5.82570626e-32,   2.76060783e-05,   2.26481718e-12,\n",
       "         1.07699698e-57])"
      ]
     },
     "execution_count": 123,
     "metadata": {},
     "output_type": "execute_result"
    }
   ],
   "source": [
    "nnpdf_weights(sigma, cv, predictions)"
   ]
  },
  {
   "cell_type": "code",
   "execution_count": 124,
   "metadata": {
    "collapsed": false
   },
   "outputs": [
    {
     "data": {
      "text/plain": [
       "1.3870304461522009"
      ]
     },
     "execution_count": 124,
     "metadata": {},
     "output_type": "execute_result"
    }
   ],
   "source": [
    "effective_number_of_replicas(_)"
   ]
  },
  {
   "cell_type": "code",
   "execution_count": 76,
   "metadata": {
    "collapsed": false
   },
   "outputs": [
    {
     "data": {
      "text/plain": [
       "100"
      ]
     },
     "execution_count": 76,
     "metadata": {},
     "output_type": "execute_result"
    }
   ],
   "source": [
    "len(diff)"
   ]
  },
  {
   "cell_type": "code",
   "execution_count": 75,
   "metadata": {
    "collapsed": false
   },
   "outputs": [
    {
     "data": {
      "text/plain": [
       "(4076,)"
      ]
     },
     "execution_count": 75,
     "metadata": {},
     "output_type": "execute_result"
    }
   ],
   "source": [
    "d = diff[0,:]"
   ]
  },
  {
   "cell_type": "code",
   "execution_count": 106,
   "metadata": {
    "collapsed": false
   },
   "outputs": [],
   "source": [
    "chis = chi2_per_replica(sigma, cv, predictions)*len(sigma)"
   ]
  },
  {
   "cell_type": "code",
   "execution_count": 114,
   "metadata": {
    "collapsed": false
   },
   "outputs": [],
   "source": [
    "logw = np.log(chis)*((len(sigma) - 1)/2) - 0.5*chis\n",
    "logw -= np.mean(logw)\n",
    "w = np.exp(logw)\n",
    "w /= sum(w)"
   ]
  },
  {
   "cell_type": "code",
   "execution_count": 115,
   "metadata": {
    "collapsed": false
   },
   "outputs": [
    {
     "data": {
      "text/plain": [
       "array([  3.03367609e-07,   1.90305380e-11,   2.31125771e-22,\n",
       "         2.44626424e-14,   7.22385005e-28,   7.10635407e-08,\n",
       "         1.32540552e-13,   1.39811793e-11,   6.88222395e-11,\n",
       "         3.01203312e-39,   7.86810627e-35,   2.27151855e-17,\n",
       "         5.52207313e-23,   5.44392390e-26,   1.67225417e-20,\n",
       "         1.56035279e-08,   8.63529062e-50,   2.13273147e-12,\n",
       "         2.42305439e-04,   2.14200143e-27,   5.00953096e-17,\n",
       "         3.22933280e-08,   4.01709191e-23,   4.76801862e-22,\n",
       "         3.16981646e-09,   2.92985378e-31,   6.99250852e-21,\n",
       "         2.33100211e-16,   8.09265731e-07,   9.21372878e-01,\n",
       "         1.77462374e-24,   9.11749979e-37,   4.90772418e-23,\n",
       "         1.21825020e-21,   5.29937392e-14,   4.86460894e-04,\n",
       "         3.20028192e-23,   8.44118019e-28,   3.65028051e-26,\n",
       "         5.62146769e-02,   2.08496004e-05,   5.17088018e-11,\n",
       "         7.90573390e-17,   2.13831457e-13,   4.34777126e-15,\n",
       "         3.64017611e-25,   1.75680229e-13,   5.18572438e-10,\n",
       "         4.72547457e-28,   2.28895752e-10,   6.18233782e-07,\n",
       "         4.29283457e-16,   8.78609122e-35,   3.46053527e-49,\n",
       "         5.27751515e-17,   9.01430118e-17,   2.72559887e-08,\n",
       "         1.54064354e-11,   2.42666397e-39,   9.31479174e-05,\n",
       "         1.46238608e-37,   1.29096653e-24,   3.04754978e-47,\n",
       "         9.69341766e-28,   4.67062012e-51,   2.03380271e-19,\n",
       "         6.51070930e-38,   1.97623761e-14,   7.10902652e-52,\n",
       "         3.75498187e-18,   1.97678782e-06,   1.48703731e-24,\n",
       "         3.80181695e-31,   2.26495524e-26,   4.71774015e-15,\n",
       "         1.65682006e-19,   1.86869056e-10,   2.08952144e-29,\n",
       "         3.84745509e-18,   8.20295379e-10,   3.69485079e-12,\n",
       "         1.54174526e-13,   3.87078276e-23,   2.15310484e-02,\n",
       "         1.98584880e-27,   1.16492532e-16,   5.50726479e-16,\n",
       "         2.51785624e-06,   8.68499376e-14,   1.57561042e-06,\n",
       "         7.32912034e-08,   6.04878090e-10,   3.00080267e-06,\n",
       "         1.01850748e-48,   7.67672063e-36,   3.14770857e-24,\n",
       "         5.82570626e-32,   2.76060783e-05,   2.26481718e-12,\n",
       "         1.07699698e-57])"
      ]
     },
     "execution_count": 115,
     "metadata": {},
     "output_type": "execute_result"
    }
   ],
   "source": [
    "w"
   ]
  },
  {
   "cell_type": "code",
   "execution_count": 121,
   "metadata": {
    "collapsed": false
   },
   "outputs": [
    {
     "data": {
      "text/plain": [
       "1.2676258096220598"
      ]
     },
     "execution_count": 121,
     "metadata": {},
     "output_type": "execute_result"
    }
   ],
   "source": [
    "np.min(chis)/len(sigma)"
   ]
  },
  {
   "cell_type": "code",
   "execution_count": 113,
   "metadata": {
    "collapsed": false
   },
   "outputs": [
    {
     "data": {
      "text/plain": [
       "1.3870304461522009"
      ]
     },
     "execution_count": 113,
     "metadata": {},
     "output_type": "execute_result"
    }
   ],
   "source": [
    "effective_number_of_replicas(_)"
   ]
  },
  {
   "cell_type": "code",
   "execution_count": 105,
   "metadata": {
    "collapsed": false
   },
   "outputs": [
    {
     "data": {
      "text/plain": [
       "array([ 1.30070181,  1.3207169 ,  1.36880225,  1.33395197,  1.39137286,\n",
       "        1.30376778,  1.33063014,  1.32133899,  1.31811342,  1.43531815,\n",
       "        1.41864914,  1.3474241 ,  1.37140102,  1.38378473,  1.36094887,\n",
       "        1.30694532,  1.4734284 ,  1.32511319,  1.28626072,  1.38947467,\n",
       "        1.34591766,  1.305424  ,  1.37197683,  1.36748264,  1.31025892,\n",
       "        1.40482359,  1.36255826,  1.34297503,  1.29861544,  1.26762581,\n",
       "        1.3775881 ,  1.42601145,  1.37161453,  1.36576802,  1.33243538,\n",
       "        1.28472219,  1.3723878 ,  1.3911013 ,  1.38449095,  1.27405898,\n",
       "        1.29162516,  1.31869384,  1.34504642,  1.32968531,  1.3373226 ,\n",
       "        1.38041449,  1.33007377,  1.31399026,  1.39211226,  1.31566485,\n",
       "        1.2991891 ,  1.34180112,  1.41846573,  1.47130641,  1.34581823,\n",
       "        1.34479554,  1.30577922,  1.32114324,  1.43566747,  1.28836072,\n",
       "        1.42900827,  1.37815705,  1.46441624,  1.39085998,  1.47786683,\n",
       "        1.35630795,  1.43032868,  1.33436966,  1.48071631,  1.35083461,\n",
       "        1.29670656,  1.3779043 ,  1.40438007,  1.38533298,  1.33716382,\n",
       "        1.35669045,  1.31607919,  1.39751499,  1.35078868,  1.31304827,\n",
       "        1.32401358,  1.33033169,  1.37204393,  1.27623934,  1.38960708,\n",
       "        1.34430488,  1.34132135,  1.29618783,  1.33146347,  1.29719227,\n",
       "        1.30370282,  1.31367428,  1.29581116,  1.46965175,  1.42250391,\n",
       "        1.37656182,  1.40756571,  1.29101515,  1.32499308,  1.50068158])"
      ]
     },
     "execution_count": 105,
     "metadata": {},
     "output_type": "execute_result"
    }
   ],
   "source": [
    "chis"
   ]
  },
  {
   "cell_type": "code",
   "execution_count": 6,
   "metadata": {
    "collapsed": true
   },
   "outputs": [],
   "source": [
    "def chi2(w, sigma, cv, predictions):\n",
    "\n",
    "    w = np.ravel(w)\n",
    "    diff = w@predictions - cv\n",
    "\n",
    "    chi2 = diff@sigma@diff/len(diff)\n",
    "\n",
    "    return chi2"
   ]
  },
  {
   "cell_type": "code",
   "execution_count": 67,
   "metadata": {
    "collapsed": false
   },
   "outputs": [
    {
     "name": "stdout",
     "output_type": "stream",
     "text": [
      " Opening data file: data/data.csv.tgz\n",
      " Opening data file: data/invcovmat.csv.tgz\n",
      " Opening predictions file: data/predictions.csv.tgz\n"
     ]
    }
   ],
   "source": [
    "# load data, invcovmat and predictions\n",
    "dt = Data('data/data.csv.tgz', 'data/invcovmat.csv.tgz')\n",
    "th = Predictions('data/predictions.csv.tgz')\n",
    "\n",
    "# retreive cv and invcovmat as numpy arrays\n",
    "cv    = dt.get_data()\n",
    "sigma = dt.get_invcovmat()\n",
    "predictions     = th.get_predictions()\n"
   ]
  },
  {
   "cell_type": "markdown",
   "metadata": {},
   "source": [
    "The chi² function is\n",
    "\n",
    "v = (w@P) - cv\n",
    "chi² = v@sigma@v\n",
    "\n",
    "Therefore we need to minimize 1/2*w@P@W + q@w as a function of w\n"
   ]
  },
  {
   "cell_type": "code",
   "execution_count": 23,
   "metadata": {
    "collapsed": false
   },
   "outputs": [
    {
     "name": "stdout",
     "output_type": "stream",
     "text": [
      "     pcost       dcost       gap    pres   dres\n",
      " 0: -1.6842e+05 -1.6842e+05  1e+02  1e+01  3e-06\n",
      " 1: -1.6842e+05 -1.6842e+05  2e+00  1e-01  4e-08\n",
      " 2: -1.6842e+05 -1.6842e+05  8e-01  4e-02  1e-08\n",
      " 3: -1.6842e+05 -1.6842e+05  2e+00  2e-02  6e-09\n",
      " 4: -1.6842e+05 -1.6842e+05  1e+00  5e-16  3e-16\n",
      " 5: -1.6842e+05 -1.6842e+05  3e-02  6e-17  3e-16\n",
      "Optimal solution found.\n"
     ]
    }
   ],
   "source": [
    "\n",
    "P = predictions@sigma@predictions.T + np.eye(len(predictions))*10000\n",
    "q = -cv@sigma@predictions.T\n",
    "A = np.ones_like(P[0])\n",
    "\n",
    "#b = np.zeros_like(P[0])\n",
    "b = float(1)\n",
    "\n",
    "G = -np.eye(len(A))\n",
    "\n",
    "h = np.zeros(len(A))\n",
    "\n",
    "\n",
    "P = matrix(P)\n",
    "q = matrix(q)\n",
    "A = matrix(A)\n",
    "b = matrix(b)\n",
    "G = matrix(G)\n",
    "h = matrix(h)\n",
    "\n",
    "solvers.options['feastol'] = 1e-12\n",
    "sol = solvers.qp(P, q, G, h, A.T, b)\n",
    "\n",
    "w = np.array(sol['x']).ravel()\n",
    "\n"
   ]
  },
  {
   "cell_type": "code",
   "execution_count": 24,
   "metadata": {
    "collapsed": false
   },
   "outputs": [
    {
     "data": {
      "text/plain": [
       "1.0"
      ]
     },
     "execution_count": 24,
     "metadata": {},
     "output_type": "execute_result"
    }
   ],
   "source": [
    "np.sum(w)"
   ]
  },
  {
   "cell_type": "code",
   "execution_count": 25,
   "metadata": {
    "collapsed": false
   },
   "outputs": [
    {
     "data": {
      "text/plain": [
       "True"
      ]
     },
     "execution_count": 25,
     "metadata": {},
     "output_type": "execute_result"
    }
   ],
   "source": [
    "(w > 0).all()"
   ]
  },
  {
   "cell_type": "code",
   "execution_count": 26,
   "metadata": {
    "collapsed": true
   },
   "outputs": [],
   "source": [
    "%matplotlib inline"
   ]
  },
  {
   "cell_type": "code",
   "execution_count": 27,
   "metadata": {
    "collapsed": false
   },
   "outputs": [
    {
     "data": {
      "text/plain": [
       "3.5908728147983684e-06"
      ]
     },
     "execution_count": 27,
     "metadata": {},
     "output_type": "execute_result"
    }
   ],
   "source": [
    "w.min()"
   ]
  },
  {
   "cell_type": "code",
   "execution_count": 28,
   "metadata": {
    "collapsed": false
   },
   "outputs": [
    {
     "data": {
      "text/plain": [
       "0.021144801406802732"
      ]
     },
     "execution_count": 28,
     "metadata": {},
     "output_type": "execute_result"
    }
   ],
   "source": [
    "w.max()"
   ]
  },
  {
   "cell_type": "code",
   "execution_count": 29,
   "metadata": {
    "collapsed": false
   },
   "outputs": [
    {
     "data": {
      "text/plain": [
       "array([  3.59087281e-06,   2.52704109e-05,   2.19581125e-04,\n",
       "         4.80688987e-04,   2.19105472e-03,   2.85863955e-03,\n",
       "         3.42736953e-03,   3.54817635e-03,   3.96407607e-03,\n",
       "         4.12420993e-03,   4.17012230e-03,   4.42138958e-03,\n",
       "         4.58889737e-03,   4.70487875e-03,   4.72213755e-03,\n",
       "         4.89981035e-03,   4.93870037e-03,   5.22149004e-03,\n",
       "         5.51112353e-03,   5.62746743e-03,   5.72185204e-03,\n",
       "         5.80385148e-03,   5.88064205e-03,   5.91079999e-03,\n",
       "         6.16573048e-03,   6.18014027e-03,   6.50627789e-03,\n",
       "         6.83130371e-03,   6.90783392e-03,   6.97816017e-03,\n",
       "         6.99828875e-03,   7.76442913e-03,   7.85352075e-03,\n",
       "         7.89956134e-03,   7.91271406e-03,   8.27113891e-03,\n",
       "         8.27425071e-03,   8.38685128e-03,   8.40799212e-03,\n",
       "         8.63052756e-03,   8.90904124e-03,   9.01868879e-03,\n",
       "         9.04705550e-03,   9.18751833e-03,   9.29932820e-03,\n",
       "         9.44543236e-03,   9.54346032e-03,   9.60498291e-03,\n",
       "         9.61476347e-03,   9.85513342e-03,   9.88991510e-03,\n",
       "         1.00183007e-02,   1.01093539e-02,   1.02212886e-02,\n",
       "         1.03930398e-02,   1.05875829e-02,   1.06078826e-02,\n",
       "         1.07949181e-02,   1.12372823e-02,   1.12743721e-02,\n",
       "         1.14924589e-02,   1.15526190e-02,   1.16662789e-02,\n",
       "         1.17339114e-02,   1.17469489e-02,   1.19448434e-02,\n",
       "         1.21584448e-02,   1.22329705e-02,   1.23245081e-02,\n",
       "         1.23858101e-02,   1.26154585e-02,   1.28882357e-02,\n",
       "         1.31430885e-02,   1.32212586e-02,   1.33748158e-02,\n",
       "         1.33819672e-02,   1.37550025e-02,   1.40681356e-02,\n",
       "         1.42176226e-02,   1.43547504e-02,   1.44269147e-02,\n",
       "         1.45253315e-02,   1.45418060e-02,   1.51792998e-02,\n",
       "         1.51924177e-02,   1.53598001e-02,   1.55221089e-02,\n",
       "         1.58305587e-02,   1.60270264e-02,   1.61878012e-02,\n",
       "         1.62785791e-02,   1.64198708e-02,   1.65017263e-02,\n",
       "         1.68029819e-02,   1.75946269e-02,   1.82094871e-02,\n",
       "         1.88119836e-02,   1.88502276e-02,   2.07396386e-02,\n",
       "         2.11448014e-02])"
      ]
     },
     "execution_count": 29,
     "metadata": {},
     "output_type": "execute_result"
    }
   ],
   "source": [
    "np.sort(w)"
   ]
  },
  {
   "cell_type": "code",
   "execution_count": 30,
   "metadata": {
    "collapsed": false
   },
   "outputs": [
    {
     "data": {
      "text/plain": [
       "0.0098725242614162122"
      ]
     },
     "execution_count": 30,
     "metadata": {},
     "output_type": "execute_result"
    }
   ],
   "source": [
    "np.median(w)"
   ]
  },
  {
   "cell_type": "code",
   "execution_count": 31,
   "metadata": {
    "collapsed": false
   },
   "outputs": [
    {
     "data": {
      "text/plain": [
       "array([ 0, 91, 21, 39, 15,  6,  5, 83, 97, 24, 44, 96, 29, 56, 35])"
      ]
     },
     "execution_count": 31,
     "metadata": {},
     "output_type": "execute_result"
    }
   ],
   "source": [
    "np.argsort(w)[-15:]"
   ]
  },
  {
   "cell_type": "code",
   "execution_count": 32,
   "metadata": {
    "collapsed": false
   },
   "outputs": [
    {
     "data": {
      "text/plain": [
       "1.2502810132321627"
      ]
     },
     "execution_count": 32,
     "metadata": {},
     "output_type": "execute_result"
    }
   ],
   "source": [
    "chi2(w, sigma, cv, predictions)"
   ]
  },
  {
   "cell_type": "code",
   "execution_count": 33,
   "metadata": {
    "collapsed": false
   },
   "outputs": [
    {
     "data": {
      "text/plain": [
       "344078.13949489093"
      ]
     },
     "execution_count": 33,
     "metadata": {},
     "output_type": "execute_result"
    }
   ],
   "source": [
    "np.mean(predictions, axis=0)@sigma@np.mean(predictions, axis=0)"
   ]
  },
  {
   "cell_type": "code",
   "execution_count": 34,
   "metadata": {
    "collapsed": false
   },
   "outputs": [
    {
     "data": {
      "text/plain": [
       "87.884770091865832"
      ]
     },
     "execution_count": 34,
     "metadata": {},
     "output_type": "execute_result"
    }
   ],
   "source": [
    "effective_number_of_replicas(w)"
   ]
  },
  {
   "cell_type": "code",
   "execution_count": null,
   "metadata": {
    "collapsed": true
   },
   "outputs": [],
   "source": []
  },
  {
   "cell_type": "code",
   "execution_count": 79,
   "metadata": {
    "collapsed": false,
    "scrolled": true
   },
   "outputs": [
    {
     "data": {
      "image/png": "[encoded data removed]",
      "text/plain": [
       "<matplotlib.figure.Figure at 0x7f804b8b1ba8>"
      ]
     },
     "metadata": {},
     "output_type": "display_data"
    }
   ],
   "source": [
    "%matplotlib inline\n",
    "import matplotlib.pyplot as plt\n",
    "from ipywidgets import interact\n",
    "solvers.options['show_progress'] = False\n",
    "def show_sol(penalty=0):\n",
    "    P = predictions@sigma@predictions.T + np.eye(len(predictions))*penalty\n",
    "    P = matrix(P)\n",
    "    sol = solvers.qp(P, q, G, h, A.T, b)\n",
    "    w = np.array(sol['x']).ravel()\n",
    "    plt.title(\"$chi^2=%.3f, N_{eff}=%.1f$\" % (chi2(w, predictions=predictions, \n",
    "                                                   cv=cv, sigma=sigma),\n",
    "                                              effective_number_of_replicas(w)))\n",
    "    w*=len(A)\n",
    "    plt.hist(w)\n",
    "\n",
    "interact(show_sol, penalty=(0,80000))\n",
    "    \n",
    "\n",
    "\n",
    "\n"
   ]
  },
  {
   "cell_type": "code",
   "execution_count": null,
   "metadata": {
    "collapsed": true
   },
   "outputs": [],
   "source": []
  }
 ],
 "metadata": {
  "kernelspec": {
   "display_name": "Python 3",
   "language": "python",
   "name": "python3"
  },
  "language_info": {
   "codemirror_mode": {
    "name": "ipython",
    "version": 3
   },
   "file_extension": ".py",
   "mimetype": "text/x-python",
   "name": "python",
   "nbconvert_exporter": "python",
   "pygments_lexer": "ipython3",
   "version": "3.5.1"
  }
 },
 "nbformat": 4,
 "nbformat_minor": 0
}
