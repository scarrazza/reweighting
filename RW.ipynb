{
 "cells": [
  {
   "cell_type": "code",
   "execution_count": 13,
   "metadata": {
    "collapsed": true
   },
   "outputs": [],
   "source": [
    "#!/usr/bin/env python\n",
    "# -*- coding: utf-8 -*-\n",
    "\n",
    "import numpy as np\n",
    "\n",
    "from cvxopt import matrix, solvers\n",
    "\n",
    "from tools import Data, Predictions\n",
    "\n",
    "\n",
    "\"\"\" A PDF reweighting tool \"\"\"\n",
    "\n",
    "__author__ = 'Stefano Carrazza & Zahari Kassabov'\n",
    "__license__ = 'GPL'\n",
    "__version__ = '1.0.0'\n",
    "__email__ = 'stefano.carrazza@cern.ch'\n",
    "\n",
    "\n"
   ]
  },
  {
   "cell_type": "code",
   "execution_count": 123,
   "metadata": {
    "collapsed": false
   },
   "outputs": [
    {
     "name": "stdout",
     "output_type": "stream",
     "text": [
      " Opening data file: data/data.csv.tgz\n",
      " Opening data file: data/invcovmat.csv.tgz\n",
      " Opening predictions file: data/predictions.csv.tgz\n"
     ]
    }
   ],
   "source": [
    "# load data, invcovmat and predictions\n",
    "dt = Data('data/data.csv.tgz', 'data/invcovmat.csv.tgz')\n",
    "th = Predictions('data/predictions.csv.tgz')\n",
    "\n",
    "# retreive cv and invcovmat as numpy arrays\n",
    "cv    = dt.get_data()\n",
    "sigma = dt.get_invcovmat()\n",
    "predictions     = th.get_predictions()\n"
   ]
  },
  {
   "cell_type": "code",
   "execution_count": 124,
   "metadata": {
    "collapsed": true
   },
   "outputs": [],
   "source": [
    "def effective_number_of_replicas(w):\n",
    "    N = len(w)\n",
    "    w = w*N\n",
    "    return np.exp(np.nansum(w*np.log(N/w))/N)"
   ]
  },
  {
   "cell_type": "code",
   "execution_count": 125,
   "metadata": {
    "collapsed": false
   },
   "outputs": [
    {
     "data": {
      "text/plain": [
       "1.0"
      ]
     },
     "execution_count": 125,
     "metadata": {},
     "output_type": "execute_result"
    }
   ],
   "source": [
    "effective_number_of_replicas(np.ones(100))"
   ]
  },
  {
   "cell_type": "code",
   "execution_count": 126,
   "metadata": {
    "collapsed": true
   },
   "outputs": [],
   "source": [
    "def chi2_per_replica(sigma, cv, predictions):\n",
    "    diff = predictions - cv\n",
    "    return np.einsum('id,de,ie -> i',diff, sigma, diff )/len(sigma)"
   ]
  },
  {
   "cell_type": "code",
   "execution_count": 127,
   "metadata": {
    "collapsed": true
   },
   "outputs": [],
   "source": [
    "def nnpdf_weights(sigma, cv, predictions):\n",
    "    chi2s = chi2_per_replica(sigma, cv, predictions)*len(sigma)\n",
    "    logw = ((len(sigma) - 1)/2)*np.log(chi2s) - 0.5*chi2s\n",
    "    logw -= np.mean(logw)\n",
    "    w = np.exp(logw)\n",
    "    w /= sum(w)\n",
    "    return w"
   ]
  },
  {
   "cell_type": "code",
   "execution_count": 158,
   "metadata": {
    "collapsed": false
   },
   "outputs": [],
   "source": [
    "nw = nnpdf_weights(sigma, cv, predictions)"
   ]
  },
  {
   "cell_type": "code",
   "execution_count": 159,
   "metadata": {
    "collapsed": false
   },
   "outputs": [
    {
     "data": {
      "text/plain": [
       "2.4194382277024666"
      ]
     },
     "execution_count": 159,
     "metadata": {},
     "output_type": "execute_result"
    }
   ],
   "source": [
    "effective_number_of_replicas(nw)"
   ]
  },
  {
   "cell_type": "code",
   "execution_count": 130,
   "metadata": {
    "collapsed": true
   },
   "outputs": [],
   "source": [
    "def chi2(w, sigma, cv, predictions):\n",
    "\n",
    "    w = np.ravel(w)\n",
    "    diff = w@predictions - cv\n",
    "\n",
    "    chi2 = diff@sigma@diff/len(diff)\n",
    "\n",
    "    return chi2"
   ]
  },
  {
   "cell_type": "markdown",
   "metadata": {},
   "source": [
    "The chi² function is\n",
    "\n",
    "v = (w@P) - cv\n",
    "chi² = v@sigma@v\n",
    "\n",
    "Therefore we need to minimize 1/2*w@P@W + q@w as a function of w\n"
   ]
  },
  {
   "cell_type": "code",
   "execution_count": 356,
   "metadata": {
    "collapsed": false
   },
   "outputs": [],
   "source": [
    "q = -cv@sigma@predictions.T\n",
    "A = np.ones_like(q)\n",
    "\n",
    "#b = np.zeros_like(P[0])\n",
    "b = float(1)\n",
    "\n",
    "G = -np.eye(len(A))\n",
    "\n",
    "h = np.zeros(len(A))\n",
    "\n",
    "q = matrix(q)\n",
    "A = matrix(A)\n",
    "b = matrix(b)\n",
    "G = matrix(G)\n",
    "h = matrix(h)\n",
    "\n",
    "mp = np.mean(predictions,axis=0)\n",
    "\n",
    "mean_chi2 = (mp@sigma@mp)\n",
    "\n",
    "solvers.options['feastol'] = 1e-16\n",
    "\n",
    "mp = np.mean(predictions, axis=0)\n",
    "penalty_scale = np.abs(0.5*mp@sigma@mp -cv@sigma@mp)\n",
    "\n",
    "def get_min_weights(penalty):\n",
    "    \n",
    "    eff_pelnalty = penalty*penalty_scale\n",
    "    P = predictions@sigma@predictions.T + np.eye(len(predictions))*eff_pelnalty\n",
    "\n",
    "\n",
    "\n",
    "    P = matrix(P)\n",
    "\n",
    "\n",
    "    \n",
    "    sol = solvers.qp(P, q, G, h, A.T, b)\n",
    "\n",
    "    w = np.array(sol['x']).ravel()\n",
    "    return w\n",
    "\n",
    "\n",
    "\n"
   ]
  },
  {
   "cell_type": "code",
   "execution_count": 357,
   "metadata": {
    "collapsed": false
   },
   "outputs": [
    {
     "data": {
      "text/plain": [
       "171045.6639095734"
      ]
     },
     "execution_count": 357,
     "metadata": {},
     "output_type": "execute_result"
    }
   ],
   "source": [
    "penalty_scale"
   ]
  },
  {
   "cell_type": "code",
   "execution_count": 375,
   "metadata": {
    "collapsed": false
   },
   "outputs": [],
   "source": [
    "w = get_min_weights(0.01)"
   ]
  },
  {
   "cell_type": "code",
   "execution_count": 376,
   "metadata": {
    "collapsed": false
   },
   "outputs": [
    {
     "data": {
      "text/plain": [
       "33.693561768259315"
      ]
     },
     "execution_count": 376,
     "metadata": {},
     "output_type": "execute_result"
    }
   ],
   "source": [
    "effective_number_of_replicas(w)"
   ]
  },
  {
   "cell_type": "code",
   "execution_count": 377,
   "metadata": {
    "collapsed": false
   },
   "outputs": [
    {
     "data": {
      "text/plain": [
       "True"
      ]
     },
     "execution_count": 377,
     "metadata": {},
     "output_type": "execute_result"
    }
   ],
   "source": [
    "(w > 0).all()"
   ]
  },
  {
   "cell_type": "code",
   "execution_count": 378,
   "metadata": {
    "collapsed": false
   },
   "outputs": [
    {
     "data": {
      "text/plain": [
       "1.1310003801055741"
      ]
     },
     "execution_count": 378,
     "metadata": {},
     "output_type": "execute_result"
    }
   ],
   "source": [
    "chi2(w, sigma, cv, predictions)"
   ]
  },
  {
   "cell_type": "code",
   "execution_count": 379,
   "metadata": {
    "collapsed": false
   },
   "outputs": [
    {
     "data": {
      "text/plain": [
       "1.0000000000000002"
      ]
     },
     "execution_count": 379,
     "metadata": {},
     "output_type": "execute_result"
    }
   ],
   "source": [
    "sum(w)"
   ]
  },
  {
   "cell_type": "code",
   "execution_count": 380,
   "metadata": {
    "collapsed": true
   },
   "outputs": [],
   "source": [
    "%matplotlib inline"
   ]
  },
  {
   "cell_type": "code",
   "execution_count": 381,
   "metadata": {
    "collapsed": false
   },
   "outputs": [
    {
     "data": {
      "text/plain": [
       "7.255668463804438e-189"
      ]
     },
     "execution_count": 381,
     "metadata": {},
     "output_type": "execute_result"
    }
   ],
   "source": [
    "w.min()"
   ]
  },
  {
   "cell_type": "code",
   "execution_count": 382,
   "metadata": {
    "collapsed": false
   },
   "outputs": [
    {
     "data": {
      "text/plain": [
       "0.066157585740448596"
      ]
     },
     "execution_count": 382,
     "metadata": {},
     "output_type": "execute_result"
    }
   ],
   "source": [
    "w.max()"
   ]
  },
  {
   "cell_type": "code",
   "execution_count": 383,
   "metadata": {
    "collapsed": false
   },
   "outputs": [
    {
     "data": {
      "text/plain": [
       "array([  7.25566846e-189,   9.13086153e-189,   1.12347234e-188,\n",
       "         1.28999188e-188,   1.46315910e-188,   1.50938405e-188,\n",
       "         1.60646004e-188,   1.67045113e-188,   1.79025267e-188,\n",
       "         1.83950111e-188,   1.93991622e-188,   2.10289831e-188,\n",
       "         2.24996434e-188,   2.30446970e-188,   2.32396387e-188,\n",
       "         2.86612092e-188,   3.17002438e-188,   3.44292598e-188,\n",
       "         3.81072580e-188,   3.86574347e-188,   3.88370621e-188,\n",
       "         4.26474418e-188,   4.39330768e-188,   5.33845447e-188,\n",
       "         5.43072660e-188,   6.44251603e-188,   6.91984065e-188,\n",
       "         1.30938844e-187,   2.19843156e-187,   2.65930496e-187,\n",
       "         3.67353696e-187,   7.34105903e-187,   2.64905755e-186,\n",
       "         1.01632923e-182,   9.47453710e-004,   1.16668688e-003,\n",
       "         1.20650633e-003,   1.31217977e-003,   1.45996398e-003,\n",
       "         1.64396353e-003,   2.77495093e-003,   3.19706817e-003,\n",
       "         3.24882230e-003,   5.47278455e-003,   7.90152052e-003,\n",
       "         8.67676367e-003,   9.32259423e-003,   9.50299808e-003,\n",
       "         1.05182380e-002,   1.09780794e-002,   1.12247699e-002,\n",
       "         1.29294749e-002,   1.30581498e-002,   1.63931362e-002,\n",
       "         1.71848718e-002,   1.73048428e-002,   1.84731935e-002,\n",
       "         2.21722407e-002,   2.29839861e-002,   2.31693274e-002,\n",
       "         2.37657325e-002,   2.42110920e-002,   2.46686422e-002,\n",
       "         2.48750674e-002,   2.54919577e-002,   2.70102961e-002,\n",
       "         2.74091361e-002,   2.97302410e-002,   3.46207845e-002,\n",
       "         3.66260803e-002,   3.66984114e-002,   3.80737231e-002,\n",
       "         3.97053349e-002,   3.99286471e-002,   4.17194768e-002,\n",
       "         4.55469666e-002,   4.89062894e-002,   5.00851045e-002,\n",
       "         6.05448637e-002,   6.61575857e-002])"
      ]
     },
     "execution_count": 383,
     "metadata": {},
     "output_type": "execute_result"
    }
   ],
   "source": [
    "np.sort(w)"
   ]
  },
  {
   "cell_type": "code",
   "execution_count": 384,
   "metadata": {
    "collapsed": false
   },
   "outputs": [
    {
     "data": {
      "text/plain": [
       "0.0022094572296667706"
      ]
     },
     "execution_count": 384,
     "metadata": {},
     "output_type": "execute_result"
    }
   ],
   "source": [
    "np.median(w)"
   ]
  },
  {
   "cell_type": "code",
   "execution_count": 385,
   "metadata": {
    "collapsed": false
   },
   "outputs": [
    {
     "data": {
      "text/plain": [
       "array([61, 68, 37, 15, 63, 70, 22,  0, 32, 20, 78, 21, 25, 35, 53])"
      ]
     },
     "execution_count": 385,
     "metadata": {},
     "output_type": "execute_result"
    }
   ],
   "source": [
    "np.argsort(w)[-15:]"
   ]
  },
  {
   "cell_type": "code",
   "execution_count": 386,
   "metadata": {
    "collapsed": false
   },
   "outputs": [
    {
     "data": {
      "text/plain": [
       "1.1310003801055741"
      ]
     },
     "execution_count": 386,
     "metadata": {},
     "output_type": "execute_result"
    }
   ],
   "source": [
    "chi2(w, sigma, cv, predictions)"
   ]
  },
  {
   "cell_type": "code",
   "execution_count": 387,
   "metadata": {
    "collapsed": false
   },
   "outputs": [
    {
     "data": {
      "text/plain": [
       "349336.21890748374"
      ]
     },
     "execution_count": 387,
     "metadata": {},
     "output_type": "execute_result"
    }
   ],
   "source": [
    "np.mean(predictions, axis=0)@sigma@np.mean(predictions, axis=0)"
   ]
  },
  {
   "cell_type": "code",
   "execution_count": 388,
   "metadata": {
    "collapsed": false
   },
   "outputs": [
    {
     "data": {
      "text/plain": [
       "33.693561768259315"
      ]
     },
     "execution_count": 388,
     "metadata": {},
     "output_type": "execute_result"
    }
   ],
   "source": [
    "effective_number_of_replicas(w)"
   ]
  },
  {
   "cell_type": "code",
   "execution_count": null,
   "metadata": {
    "collapsed": true
   },
   "outputs": [],
   "source": []
  },
  {
   "cell_type": "code",
   "execution_count": 396,
   "metadata": {
    "collapsed": false,
    "scrolled": true
   },
   "outputs": [
    {
     "data": {
      "image/png": "[encoded data removed]",
      "text/plain": [
       "<matplotlib.figure.Figure at 0x7f483fa372e8>"
      ]
     },
     "metadata": {},
     "output_type": "display_data"
    }
   ],
   "source": [
    "%matplotlib inline\n",
    "import matplotlib.pyplot as plt\n",
    "from ipywidgets import interact\n",
    "solvers.options['show_progress'] = False\n",
    "def show_sol(penalty=0):\n",
    "    w = get_min_weights(penalty)\n",
    "    plt.title(\"$chi^2=%.3f, N_{eff}=%.1f$\" % (chi2(w, predictions=predictions, \n",
    "                                                   cv=cv, sigma=sigma),\n",
    "                                              effective_number_of_replicas(w)))\n",
    "    w*=len(A)\n",
    "    plt.hist(w)\n",
    "\n",
    "interact(show_sol, penalty=(0,0.50,0.0001))\n",
    "    \n",
    "\n",
    "\n",
    "\n"
   ]
  },
  {
   "cell_type": "code",
   "execution_count": 397,
   "metadata": {
    "collapsed": false,
    "scrolled": true
   },
   "outputs": [
    {
     "data": {
      "text/plain": [
       "<matplotlib.text.Text at 0x7f483f3637b8>"
      ]
     },
     "execution_count": 397,
     "metadata": {},
     "output_type": "execute_result"
    },
    {
     "data": {
      "image/png": "[encoded data removed]",
      "text/plain": [
       "<matplotlib.figure.Figure at 0x7f483f2f2828>"
      ]
     },
     "metadata": {},
     "output_type": "display_data"
    }
   ],
   "source": [
    "#w = get_min_weights(2000)\n",
    "w = nw\n",
    "avg = np.average(predictions, weights=w, axis=0)\n",
    "var = np.average((predictions - avg)**2, weights=w, axis=0)\n",
    "rwstd = np.sqrt(var)\n",
    "origstd = np.std(predictions, axis=0)\n",
    "ratio = rwstd/origstd\n",
    "plt.hist(ratio)\n",
    "plt.title(r'$\\sigma_{rw}/\\sigma_0$ NNPDF')"
   ]
  },
  {
   "cell_type": "code",
   "execution_count": 409,
   "metadata": {
    "collapsed": false
   },
   "outputs": [
    {
     "data": {
      "text/plain": [
       "<matplotlib.text.Text at 0x7f483f8ee518>"
      ]
     },
     "execution_count": 409,
     "metadata": {},
     "output_type": "execute_result"
    },
    {
     "data": {
      "image/png": "[encoded data removed]",
      "text/plain": [
       "<matplotlib.figure.Figure at 0x7f483f4944e0>"
      ]
     },
     "metadata": {},
     "output_type": "display_data"
    }
   ],
   "source": [
    "w = get_min_weights(0)\n",
    "#w = nw\n",
    "avg = np.average(predictions, weights=w, axis=0)\n",
    "var = np.average((predictions - avg)**2, weights=w, axis=0)\n",
    "rwstd = np.sqrt(var)\n",
    "origstd = np.std(predictions, axis=0)\n",
    "ratio = rwstd/origstd\n",
    "plt.hist(ratio)\n",
    "plt.title(r'$\\sigma_{rw}/\\sigma_0$ Minimization')"
   ]
  },
  {
   "cell_type": "code",
   "execution_count": 407,
   "metadata": {
    "collapsed": false
   },
   "outputs": [
    {
     "data": {
      "text/plain": [
       "34.95041932169898"
      ]
     },
     "execution_count": 407,
     "metadata": {},
     "output_type": "execute_result"
    }
   ],
   "source": [
    "w = get_min_weights(0.0107)\n",
    "effective_number_of_replicas(w)"
   ]
  },
  {
   "cell_type": "code",
   "execution_count": 408,
   "metadata": {
    "collapsed": false
   },
   "outputs": [
    {
     "data": {
      "text/plain": [
       "<matplotlib.text.Text at 0x7f483f7a34e0>"
      ]
     },
     "execution_count": 408,
     "metadata": {},
     "output_type": "execute_result"
    },
    {
     "data": {
      "image/png": "[encoded data removed]",
      "text/plain": [
       "<matplotlib.figure.Figure at 0x7f483f897588>"
      ]
     },
     "metadata": {},
     "output_type": "display_data"
    }
   ],
   "source": [
    "w = get_min_weights(0.0107)\n",
    "#w = nw\n",
    "avg = np.average(predictions, weights=w, axis=0)\n",
    "var = np.average((predictions - avg)**2, weights=w, axis=0)\n",
    "rwstd = np.sqrt(var)\n",
    "origstd = np.std(predictions, axis=0)\n",
    "ratio = rwstd/origstd\n",
    "plt.hist(ratio)\n",
    "plt.title(r'$\\sigma_{rw}/\\sigma_0$ Minimization With WP')"
   ]
  },
  {
   "cell_type": "code",
   "execution_count": 169,
   "metadata": {
    "collapsed": false
   },
   "outputs": [
    {
     "data": {
      "text/plain": [
       "(1e-07, 10000000.0)"
      ]
     },
     "execution_count": 169,
     "metadata": {},
     "output_type": "execute_result"
    },
    {
     "data": {
      "image/png": "[encoded data removed]",
      "text/plain": [
       "<matplotlib.figure.Figure at 0x7f804bd56e48>"
      ]
     },
     "metadata": {},
     "output_type": "display_data"
    }
   ],
   "source": [
    "plt.plot(cv, predictions.mean(axis=0), 'o')\n",
    "plt.plot(cv, w@predictions, 'o')\n",
    "\n",
    "plt.plot(cv, cv)\n",
    "plt.xscale('log')\n",
    "plt.yscale('log')\n"
   ]
  },
  {
   "cell_type": "code",
   "execution_count": 11,
   "metadata": {
    "collapsed": true
   },
   "outputs": [],
   "source": [
    "%matplotlib qt\n",
    "import matplotlib.pyplot as plt"
   ]
  },
  {
   "cell_type": "code",
   "execution_count": 12,
   "metadata": {
    "collapsed": false
   },
   "outputs": [
    {
     "data": {
      "text/plain": [
       "[<matplotlib.lines.Line2D at 0x7f4838041278>]"
      ]
     },
     "execution_count": 12,
     "metadata": {},
     "output_type": "execute_result"
    }
   ],
   "source": [
    "plt.plot(predictions.mean(axis=0)/cv, 'o')\n",
    "plt.plot(w@predictions/cv, 'o')"
   ]
  },
  {
   "cell_type": "code",
   "execution_count": 72,
   "metadata": {
    "collapsed": false
   },
   "outputs": [
    {
     "data": {
      "text/plain": [
       "array([  5.00486259e-04,   4.87361116e-04,   1.08870425e-03,\n",
       "         1.08033101e-01,   7.30367023e-04,   3.29872379e-04,\n",
       "         5.17924095e-04,   3.40926299e-04,   3.47297778e-04,\n",
       "         4.80942184e-04,   5.35189484e-04,   5.66683058e-04,\n",
       "         4.67528242e-04,   9.06750894e-04,   5.78990423e-04,\n",
       "         9.91329139e-04,   4.91905118e-04,   8.89457121e-05,\n",
       "         1.16912163e-04,   9.94579626e-02,   5.89079037e-04,\n",
       "         5.28928228e-03,   9.56105719e-05,   6.91296167e-04,\n",
       "         5.56540814e-04,   8.15352064e-04,   3.94852844e-04,\n",
       "         6.55589210e-04,   5.67950597e-04,   5.28232225e-04,\n",
       "         5.04999366e-04,   5.24003695e-04,   5.21785174e-04,\n",
       "         9.15699643e-02,   2.92109776e-04,   8.64029787e-04,\n",
       "         6.40017813e-04,   2.25907622e-03,   5.10905903e-04,\n",
       "         4.19384684e-04,   5.52341918e-04,   7.04245808e-04,\n",
       "         5.82070481e-04,   6.02963120e-04,   1.84826990e-04,\n",
       "         2.55449831e-04,   1.08056162e-03,   7.42146671e-04,\n",
       "         4.23208068e-04,   4.51645662e-04,   4.32753735e-04,\n",
       "         1.06921504e-03,   5.34974159e-04,   5.20726624e-04,\n",
       "         5.53072248e-04,   5.12614944e-04,   3.35429850e-04,\n",
       "         6.03720772e-04,   4.58384715e-04,   9.08851426e-04,\n",
       "         5.65432970e-04,   6.32908012e-04,   5.25032153e-04,\n",
       "         1.84907304e-04,   5.62950152e-04,   5.08577821e-04,\n",
       "         5.29952459e-04,   4.82621824e-04,   5.62532724e-04,\n",
       "         3.95211876e-02,   5.97605433e-01,   4.81161828e-04,\n",
       "         2.80860728e-04,   4.03494628e-04,   3.59450275e-04,\n",
       "         4.64566288e-04,   3.21726716e-04,   8.87830446e-04,\n",
       "         1.76093187e-02,   6.51609045e-04])"
      ]
     },
     "execution_count": 72,
     "metadata": {},
     "output_type": "execute_result"
    }
   ],
   "source": [
    "w"
   ]
  },
  {
   "cell_type": "code",
   "execution_count": null,
   "metadata": {
    "collapsed": true
   },
   "outputs": [],
   "source": []
  }
 ],
 "metadata": {
  "kernelspec": {
   "display_name": "Python 3",
   "language": "python",
   "name": "python3"
  },
  "language_info": {
   "codemirror_mode": {
    "name": "ipython",
    "version": 3
   },
   "file_extension": ".py",
   "mimetype": "text/x-python",
   "name": "python",
   "nbconvert_exporter": "python",
   "pygments_lexer": "ipython3",
   "version": "3.5.1"
  }
 },
 "nbformat": 4,
 "nbformat_minor": 0
}
